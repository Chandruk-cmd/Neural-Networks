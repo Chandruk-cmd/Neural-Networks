{
 "cells": [
  {
   "cell_type": "code",
   "execution_count": 6,
   "metadata": {},
   "outputs": [
    {
     "data": {
      "text/plain": [
       "0.014982592247174329"
      ]
     },
     "execution_count": 6,
     "metadata": {},
     "output_type": "execute_result"
    }
   ],
   "source": [
    "import numpy as np\n",
    "\n",
    "def NN(m1, m2, w1, w2, b):\n",
    "    z = m1*w1 + m2*w2 + b\n",
    "    return sigmoid(z)\n",
    "\n",
    "def sigmoid(x):\n",
    "    return 1 /(1+ np.exp(-x))\n",
    "\n",
    "w1 = np.random.randn()\n",
    "w2 = np.random.randn()\n",
    "b = np.random.randn()\n",
    "\n",
    "NN(3, 1.5, w1, w2, b)"
   ]
  },
  {
   "cell_type": "code",
   "execution_count": 1,
   "metadata": {},
   "outputs": [
    {
     "name": "stdout",
     "output_type": "stream",
     "text": [
      "Random starting synaptic weights: \n",
      "[[-0.16595599]\n",
      " [ 0.44064899]\n",
      " [-0.99977125]]\n",
      "Outputs after training:\n",
      "[[0.2689864 ]\n",
      " [0.3262757 ]\n",
      " [0.23762817]\n",
      " [0.36375058]]\n"
     ]
    }
   ],
   "source": [
    "import numpy as np\n",
    "\n",
    "def sigmoid(x):\n",
    "    return 1/ (1+ np.exp(-x))\n",
    "\n",
    "training_inputs = np.array([[0, 0, 1],\n",
    "                           [1, 1, 1],\n",
    "                           [1, 0, 1],\n",
    "                           [0, 1, 1]])\n",
    "training_outputs = np.array([[0, 1, 1, 0]]).T\n",
    "\n",
    "np.random.seed(1)\n",
    "\n",
    "synaptic_weights = 2 * np.random.random((3,1))-1\n",
    "\n",
    "print('Random starting synaptic weights: ')\n",
    "print(synaptic_weights)\n",
    "\n",
    "for iteration in range(1):\n",
    "    input_layer = training_inputs\n",
    "    \n",
    "    outputs = sigmoid(np.dot(input_layer, synaptic_weights))\n",
    "\n",
    "    print ('Outputs after training:')\n",
    "    print(outputs)"
   ]
  },
  {
   "cell_type": "code",
   "execution_count": 5,
   "metadata": {},
   "outputs": [
    {
     "name": "stdout",
     "output_type": "stream",
     "text": [
      "Random starting synaptic weights: \n",
      "[[-0.16595599]\n",
      " [ 0.44064899]\n",
      " [-0.99977125]]\n",
      "Synaptic weights after training\n",
      "[[11.30926129]\n",
      " [-0.20509237]\n",
      " [-5.45001623]]\n",
      "Outputs after training:\n",
      "[[0.0042779 ]\n",
      " [0.99650925]\n",
      " [0.99715469]\n",
      " [0.00348742]]\n"
     ]
    }
   ],
   "source": [
    "import numpy as np\n",
    "\n",
    "def sigmoid(x):\n",
    "    return 1/ (1+ np.exp(-x))\n",
    "\n",
    "def sigmoid_derivative(x):\n",
    "    return x*(1-x)\n",
    "\n",
    "training_inputs = np.array([[0, 0, 1],\n",
    "                           [1, 1, 1],\n",
    "                           [1, 0, 1],\n",
    "                           [0, 1, 1]])\n",
    "training_outputs = np.array([[0, 1, 1, 0]]).T\n",
    "\n",
    "np.random.seed(1)\n",
    "\n",
    "synaptic_weights = 2 * np.random.random((3,1))-1\n",
    "\n",
    "print('Random starting synaptic weights: ')\n",
    "print(synaptic_weights)\n",
    "\n",
    "for iteration in range(50000):\n",
    "    input_layer = training_inputs\n",
    "    \n",
    "    outputs = sigmoid(np.dot(input_layer, synaptic_weights))\n",
    "    \n",
    "    error = training_outputs - outputs\n",
    "    adjustments = error * sigmoid_derivative(outputs)\n",
    "    synaptic_weights += np.dot(input_layer.T, adjustments)\n",
    "\n",
    "print('Synaptic weights after training')\n",
    "print (synaptic_weights)\n",
    "print ('Outputs after training:')\n",
    "print(outputs)"
   ]
  },
  {
   "cell_type": "code",
   "execution_count": 7,
   "metadata": {},
   "outputs": [],
   "source": []
  },
  {
   "cell_type": "code",
   "execution_count": 9,
   "metadata": {},
   "outputs": [],
   "source": []
  },
  {
   "cell_type": "code",
   "execution_count": null,
   "metadata": {},
   "outputs": [],
   "source": []
  }
 ],
 "metadata": {
  "kernelspec": {
   "display_name": "Python 3",
   "language": "python",
   "name": "python3"
  },
  "language_info": {
   "codemirror_mode": {
    "name": "ipython",
    "version": 3
   },
   "file_extension": ".py",
   "mimetype": "text/x-python",
   "name": "python",
   "nbconvert_exporter": "python",
   "pygments_lexer": "ipython3",
   "version": "3.8.3"
  }
 },
 "nbformat": 4,
 "nbformat_minor": 4
}
