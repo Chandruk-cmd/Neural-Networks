{
 "cells": [
  {
   "cell_type": "code",
   "execution_count": 1,
   "metadata": {},
   "outputs": [],
   "source": [
    "import numpy as np\n",
    "import pandas as pd"
   ]
  },
  {
   "cell_type": "code",
   "execution_count": 2,
   "metadata": {},
   "outputs": [],
   "source": [
    "df = pd.DataFrame([[0,0,0],\n",
    "                  [0,1,0],\n",
    "                  [1,0,1],\n",
    "                  [1,1,0]], columns= ['A', 'B', 'Output'])"
   ]
  },
  {
   "cell_type": "code",
   "execution_count": 3,
   "metadata": {},
   "outputs": [
    {
     "data": {
      "text/html": [
       "<div>\n",
       "<style scoped>\n",
       "    .dataframe tbody tr th:only-of-type {\n",
       "        vertical-align: middle;\n",
       "    }\n",
       "\n",
       "    .dataframe tbody tr th {\n",
       "        vertical-align: top;\n",
       "    }\n",
       "\n",
       "    .dataframe thead th {\n",
       "        text-align: right;\n",
       "    }\n",
       "</style>\n",
       "<table border=\"1\" class=\"dataframe\">\n",
       "  <thead>\n",
       "    <tr style=\"text-align: right;\">\n",
       "      <th></th>\n",
       "      <th>A</th>\n",
       "      <th>B</th>\n",
       "      <th>Output</th>\n",
       "    </tr>\n",
       "  </thead>\n",
       "  <tbody>\n",
       "    <tr>\n",
       "      <th>0</th>\n",
       "      <td>0</td>\n",
       "      <td>0</td>\n",
       "      <td>0</td>\n",
       "    </tr>\n",
       "    <tr>\n",
       "      <th>1</th>\n",
       "      <td>0</td>\n",
       "      <td>1</td>\n",
       "      <td>0</td>\n",
       "    </tr>\n",
       "    <tr>\n",
       "      <th>2</th>\n",
       "      <td>1</td>\n",
       "      <td>0</td>\n",
       "      <td>1</td>\n",
       "    </tr>\n",
       "    <tr>\n",
       "      <th>3</th>\n",
       "      <td>1</td>\n",
       "      <td>1</td>\n",
       "      <td>0</td>\n",
       "    </tr>\n",
       "  </tbody>\n",
       "</table>\n",
       "</div>"
      ],
      "text/plain": [
       "   A  B  Output\n",
       "0  0  0       0\n",
       "1  0  1       0\n",
       "2  1  0       1\n",
       "3  1  1       0"
      ]
     },
     "execution_count": 3,
     "metadata": {},
     "output_type": "execute_result"
    }
   ],
   "source": [
    "df"
   ]
  },
  {
   "cell_type": "code",
   "execution_count": 26,
   "metadata": {},
   "outputs": [],
   "source": [
    "w = [1,-1]\n",
    "def AND(x):\n",
    "    y = np.dot(x,w)\n",
    "    return bin_step(y,1)"
   ]
  },
  {
   "cell_type": "code",
   "execution_count": 27,
   "metadata": {},
   "outputs": [],
   "source": [
    "def bin_step(y,th):\n",
    "    return 1 if y>=1 else 0"
   ]
  },
  {
   "cell_type": "code",
   "execution_count": 28,
   "metadata": {},
   "outputs": [
    {
     "name": "stdout",
     "output_type": "stream",
     "text": [
      " A = 0 and B = 0 then output 0\n",
      " A = 0 and B = 1 then output 0\n",
      " A = 1 and B = 0 then output 1\n",
      " A = 1 and B = 1 then output 0\n"
     ]
    }
   ],
   "source": [
    "print(f' A = 0 and B = 0 then output {AND([0,0])}')\n",
    "print(f' A = 0 and B = 1 then output {AND([0,1])}')\n",
    "print(f' A = 1 and B = 0 then output {AND([1,0])}')\n",
    "print(f' A = 1 and B = 1 then output {AND([1,1])}')"
   ]
  },
  {
   "cell_type": "code",
   "execution_count": 29,
   "metadata": {},
   "outputs": [
    {
     "data": {
      "text/plain": [
       "0.9480990806200523"
      ]
     },
     "execution_count": 29,
     "metadata": {},
     "output_type": "execute_result"
    }
   ],
   "source": [
    "import numpy as np\n",
    "\n",
    "def NN(m1,m2,w1,w2,b):\n",
    "    z= m1*w1+m2*w2+b\n",
    "    return sigmoid(z)\n",
    "\n",
    "def sigmoid(x):\n",
    "    return 1/(1+np.exp(-x))\n",
    "\n",
    "w1 = np.random.randn()\n",
    "w2 = np.random.randn()\n",
    "b =np.random.randn()\n",
    "\n",
    "NN(3, 1.5, w1,w2,b)\n",
    "    \n"
   ]
  },
  {
   "cell_type": "code",
   "execution_count": 31,
   "metadata": {},
   "outputs": [
    {
     "name": "stdout",
     "output_type": "stream",
     "text": [
      "Random strarting synaptic weights: \n",
      "[[-0.16595599]\n",
      " [ 0.44064899]\n",
      " [-0.99977125]]\n",
      "outputs after training:\n",
      "[[0.2689864 ]\n",
      " [0.3262757 ]\n",
      " [0.23762817]\n",
      " [0.36375058]]\n"
     ]
    }
   ],
   "source": [
    "import numpy as np\n",
    "\n",
    "def sigmoid(x):\n",
    "    return 1 / (1+ np.exp(-x))\n",
    "\n",
    "training_inputs = np.array([[0,0,1],\n",
    "                           [1,1,1,],\n",
    "                           [1,0,1],\n",
    "                           [0,1,1]])\n",
    "taining_outputs = np.array([[0,1,1,0]]).T\n",
    "\n",
    "np.random.seed(1)\n",
    "\n",
    "synaptic_weights = 2*np.random.random((3,1))-1\n",
    "\n",
    "print('Random starting synaptic weights: ')\n",
    "print(synaptic_weights)\n",
    "\n",
    "for iteration in range(1):\n",
    "    input_layer = training_inputs\n",
    "    \n",
    "    outputs = sigmoid(np.dot(input_layer, synaptic_weights))\n",
    "    \n",
    "    print('outputs after training:')\n",
    "    print(outputs)"
   ]
  },
  {
   "cell_type": "code",
   "execution_count": 41,
   "metadata": {},
   "outputs": [
    {
     "name": "stdout",
     "output_type": "stream",
     "text": [
      "Random strarting synaptic weights: \n",
      "[[-0.16595599]\n",
      " [ 0.44064899]\n",
      " [-0.99977125]]\n",
      "Synaptic weights aftr training\n",
      "[[ 7.26283009]\n",
      " [-0.21614618]\n",
      " [-3.41703015]]\n",
      "outputs after training:\n",
      "[[0.03178421]\n",
      " [0.97414645]\n",
      " [0.97906682]\n",
      " [0.02576499]]\n"
     ]
    }
   ],
   "source": [
    "import numpy as np\n",
    "\n",
    "def sigmoid(x):\n",
    "    return 1 / (1+ np.exp(-x))\n",
    "\n",
    "def sigmoid_derivative(x):\n",
    "    return x*(1-x)\n",
    "\n",
    "training_inputs = np.array([[0,0,1],\n",
    "                           [1,1,1,],\n",
    "                           [1,0,1],\n",
    "                           [0,1,1]])\n",
    "training_outputs = np.array([[0,1,1,0]]).T\n",
    "\n",
    "np.random.seed(1)\n",
    "\n",
    "synaptic_weights = 2*np.random.random((3,1))-1\n",
    "\n",
    "print('Random strarting synaptic weights: ')\n",
    "print(synaptic_weights)\n",
    "\n",
    "for iteration in range(1000):\n",
    "    input_layer = training_inputs\n",
    "    \n",
    "    outputs = sigmoid(np.dot(input_layer, synaptic_weights))\n",
    "    \n",
    "    error = training_outputs-outputs\n",
    "    adjustments = error* sigmoid_derivative(outputs)\n",
    "    synaptic_weights += np.dot(input_layer.T, adjustments)\n",
    "    \n",
    "print('Synaptic weights aftr training')\n",
    "print(synaptic_weights)\n",
    "\n",
    "print('outputs after training:')\n",
    "print(outputs)"
   ]
  },
  {
   "cell_type": "code",
   "execution_count": null,
   "metadata": {},
   "outputs": [],
   "source": []
  }
 ],
 "metadata": {
  "kernelspec": {
   "display_name": "Python 3",
   "language": "python",
   "name": "python3"
  },
  "language_info": {
   "codemirror_mode": {
    "name": "ipython",
    "version": 3
   },
   "file_extension": ".py",
   "mimetype": "text/x-python",
   "name": "python",
   "nbconvert_exporter": "python",
   "pygments_lexer": "ipython3",
   "version": "3.8.3"
  }
 },
 "nbformat": 4,
 "nbformat_minor": 4
}
