{
 "cells": [
  {
   "cell_type": "code",
   "execution_count": 1,
   "metadata": {},
   "outputs": [
    {
     "name": "stdout",
     "output_type": "stream",
     "text": [
      "2.3.1\n",
      "2.4.3\n"
     ]
    }
   ],
   "source": [
    "import tensorflow as tf\n",
    "import keras\n",
    "from keras import backend as K\n",
    "import numpy as np\n",
    "%matplotlib inline\n",
    "import matplotlib.pyplot as plt\n",
    "print(tf.__version__)\n",
    "print(keras.__version__)"
   ]
  },
  {
   "cell_type": "code",
   "execution_count": 2,
   "metadata": {},
   "outputs": [],
   "source": [
    "from keras.datasets import cifar10\n",
    "(x_train, y_train), (x_test, y_test) = cifar10.load_data()"
   ]
  },
  {
   "cell_type": "code",
   "execution_count": 3,
   "metadata": {},
   "outputs": [
    {
     "name": "stdout",
     "output_type": "stream",
     "text": [
      "shape of training data:\n",
      "(50000, 32, 32, 3)\n",
      "(50000, 10)\n",
      "shape of test data:\n",
      "(10000, 32, 32, 3)\n",
      "(10000, 10)\n"
     ]
    }
   ],
   "source": [
    "y_train = keras.utils.to_categorical(y_train, num_classes =10)\n",
    "y_test = keras.utils.to_categorical(y_test, num_classes=10)\n",
    "x_train = x_train.astype('float32')\n",
    "x_test = x_test.astype('float32')\n",
    "x_train /=255\n",
    "x_test /=255\n",
    "print(\"shape of training data:\")\n",
    "print(x_train.shape)\n",
    "print(y_train.shape)\n",
    "print(\"shape of test data:\")\n",
    "print(x_test.shape)\n",
    "print(y_test.shape)"
   ]
  },
  {
   "cell_type": "code",
   "execution_count": 4,
   "metadata": {},
   "outputs": [],
   "source": [
    "from keras.models import Sequential\n",
    "from keras.layers import Conv2D, MaxPooling2D, Flatten , Dense, Activation,Dropout\n",
    "from keras.layers.advanced_activations import ReLU"
   ]
  },
  {
   "cell_type": "code",
   "execution_count": 5,
   "metadata": {},
   "outputs": [
    {
     "name": "stdout",
     "output_type": "stream",
     "text": [
      "Model: \"sequential\"\n",
      "_________________________________________________________________\n",
      "Layer (type)                 Output Shape              Param #   \n",
      "=================================================================\n",
      "conv2d (Conv2D)              (None, 32, 32, 25)        700       \n",
      "_________________________________________________________________\n",
      "conv2d_1 (Conv2D)            (None, 32, 32, 50)        11300     \n",
      "_________________________________________________________________\n",
      "max_pooling2d (MaxPooling2D) (None, 16, 16, 50)        0         \n",
      "_________________________________________________________________\n",
      "dropout (Dropout)            (None, 16, 16, 50)        0         \n",
      "_________________________________________________________________\n",
      "conv2d_2 (Conv2D)            (None, 16, 16, 70)        31570     \n",
      "_________________________________________________________________\n",
      "max_pooling2d_1 (MaxPooling2 (None, 8, 8, 70)          0         \n",
      "_________________________________________________________________\n",
      "dropout_1 (Dropout)          (None, 8, 8, 70)          0         \n",
      "_________________________________________________________________\n",
      "flatten (Flatten)            (None, 4480)              0         \n",
      "_________________________________________________________________\n",
      "dense (Dense)                (None, 500)               2240500   \n",
      "_________________________________________________________________\n",
      "dropout_2 (Dropout)          (None, 500)               0         \n",
      "_________________________________________________________________\n",
      "dense_1 (Dense)              (None, 250)               125250    \n",
      "_________________________________________________________________\n",
      "dropout_3 (Dropout)          (None, 250)               0         \n",
      "_________________________________________________________________\n",
      "dense_2 (Dense)              (None, 10)                2510      \n",
      "=================================================================\n",
      "Total params: 2,411,830\n",
      "Trainable params: 2,411,830\n",
      "Non-trainable params: 0\n",
      "_________________________________________________________________\n"
     ]
    }
   ],
   "source": [
    "#creating the model\n",
    "#building a linear stack of layers with the sequential model\n",
    "model = Sequential()\n",
    "\n",
    "#convolution layer 1\n",
    "model.add(Conv2D(25, kernel_size = (3,3), strides = (1,1), padding = 'same', activation = 'relu', input_shape=(32,32,3)))\n",
    "\n",
    "#convolution layer 2\n",
    "model.add(Conv2D(50, kernel_size = (3,3), strides = (1,1), padding = 'same', activation = 'relu' ))\n",
    "model.add(MaxPooling2D(pool_size =(2,2)))\n",
    "model.add(Dropout(0.25))\n",
    "\n",
    "model.add(Conv2D(70, kernel_size = (3,3), strides = (1,1), padding = 'same', activation = 'relu' ))\n",
    "model.add(MaxPooling2D(pool_size =(2,2)))\n",
    "model.add(Dropout(0.25))\n",
    "\n",
    "# flatten output of conv\n",
    "model.add(Flatten())\n",
    "\n",
    "#hidden layer\n",
    "model.add(Dense(500, activation='relu'))\n",
    "model.add(Dropout(0.4))\n",
    "model.add(Dense(250, activation='relu'))\n",
    "model.add(Dropout(0.3))\n",
    "\n",
    "#output layer\n",
    "model.add(Dense(10, activation='softmax'))\n",
    "model.summary()\n"
   ]
  },
  {
   "cell_type": "code",
   "execution_count": 6,
   "metadata": {},
   "outputs": [],
   "source": [
    "#compiling the model    \n",
    "#categorical_crossentropy ( cce ) uses a one-hot array to calculate the probability \n",
    "#adam - combination of both RMS and SGD\n",
    "model.compile(loss='categorical_crossentropy', metrics = ['accuracy'], optimizer = 'adam')"
   ]
  },
  {
   "cell_type": "code",
   "execution_count": 8,
   "metadata": {},
   "outputs": [
    {
     "name": "stdout",
     "output_type": "stream",
     "text": [
      "Epoch 1/100\n",
      "1563/1563 [==============================] - 57s 37ms/step - loss: 0.2277 - accuracy: 0.9291 - val_loss: 0.8113 - val_accuracy: 0.7774\n",
      "Epoch 2/100\n",
      "1563/1563 [==============================] - 57s 36ms/step - loss: 0.2262 - accuracy: 0.9310 - val_loss: 0.7830 - val_accuracy: 0.7753\n",
      "Epoch 3/100\n",
      "1563/1563 [==============================] - 54s 34ms/step - loss: 0.2269 - accuracy: 0.9291 - val_loss: 0.7767 - val_accuracy: 0.7827\n",
      "Epoch 4/100\n",
      "1563/1563 [==============================] - 54s 34ms/step - loss: 0.2348 - accuracy: 0.9286 - val_loss: 0.7833 - val_accuracy: 0.7795\n",
      "Epoch 5/100\n",
      "1563/1563 [==============================] - 54s 34ms/step - loss: 0.2277 - accuracy: 0.9293 - val_loss: 0.7501 - val_accuracy: 0.7817\n",
      "Epoch 6/100\n",
      "1563/1563 [==============================] - 54s 34ms/step - loss: 0.2241 - accuracy: 0.9299 - val_loss: 0.7755 - val_accuracy: 0.7795\n",
      "Epoch 7/100\n",
      "1563/1563 [==============================] - 54s 34ms/step - loss: 0.2273 - accuracy: 0.9305 - val_loss: 0.7592 - val_accuracy: 0.7824\n",
      "Epoch 8/100\n",
      "1563/1563 [==============================] - 54s 34ms/step - loss: 0.2224 - accuracy: 0.9314 - val_loss: 0.7901 - val_accuracy: 0.7846\n",
      "Epoch 9/100\n",
      "1563/1563 [==============================] - 54s 34ms/step - loss: 0.2269 - accuracy: 0.9311 - val_loss: 0.8059 - val_accuracy: 0.7805\n",
      "Epoch 10/100\n",
      "1563/1563 [==============================] - 54s 34ms/step - loss: 0.2210 - accuracy: 0.9312 - val_loss: 0.7790 - val_accuracy: 0.7858\n",
      "Epoch 11/100\n",
      "1563/1563 [==============================] - 54s 34ms/step - loss: 0.2262 - accuracy: 0.9309 - val_loss: 0.8069 - val_accuracy: 0.7817\n",
      "Epoch 12/100\n",
      "1563/1563 [==============================] - 54s 34ms/step - loss: 0.2180 - accuracy: 0.9328 - val_loss: 0.7638 - val_accuracy: 0.7816\n",
      "Epoch 13/100\n",
      "1563/1563 [==============================] - 54s 34ms/step - loss: 0.2262 - accuracy: 0.9295 - val_loss: 0.7560 - val_accuracy: 0.7866\n",
      "Epoch 14/100\n",
      "1563/1563 [==============================] - 54s 35ms/step - loss: 0.2203 - accuracy: 0.9335 - val_loss: 0.8217 - val_accuracy: 0.7758\n",
      "Epoch 15/100\n",
      "1563/1563 [==============================] - 54s 35ms/step - loss: 0.2161 - accuracy: 0.9347 - val_loss: 0.8076 - val_accuracy: 0.7835\n",
      "Epoch 16/100\n",
      "1563/1563 [==============================] - 54s 35ms/step - loss: 0.2136 - accuracy: 0.9340 - val_loss: 0.8180 - val_accuracy: 0.7805\n",
      "Epoch 17/100\n",
      "1563/1563 [==============================] - 55s 35ms/step - loss: 0.2200 - accuracy: 0.9330 - val_loss: 0.7520 - val_accuracy: 0.7869\n",
      "Epoch 18/100\n",
      "1563/1563 [==============================] - 54s 35ms/step - loss: 0.2156 - accuracy: 0.9334 - val_loss: 0.8118 - val_accuracy: 0.7840\n",
      "Epoch 19/100\n",
      "1563/1563 [==============================] - 54s 35ms/step - loss: 0.2181 - accuracy: 0.9341 - val_loss: 0.8270 - val_accuracy: 0.7721\n",
      "Epoch 20/100\n",
      "1563/1563 [==============================] - 54s 35ms/step - loss: 0.2161 - accuracy: 0.9338 - val_loss: 0.7978 - val_accuracy: 0.7786\n",
      "Epoch 21/100\n",
      "1563/1563 [==============================] - 54s 34ms/step - loss: 0.2179 - accuracy: 0.9338 - val_loss: 0.7935 - val_accuracy: 0.7830\n",
      "Epoch 22/100\n",
      "1563/1563 [==============================] - 54s 35ms/step - loss: 0.2211 - accuracy: 0.9325 - val_loss: 0.7554 - val_accuracy: 0.7810\n",
      "Epoch 23/100\n",
      "1563/1563 [==============================] - 54s 35ms/step - loss: 0.2171 - accuracy: 0.9338 - val_loss: 0.7740 - val_accuracy: 0.7790\n",
      "Epoch 24/100\n",
      "1563/1563 [==============================] - 54s 34ms/step - loss: 0.2195 - accuracy: 0.9344 - val_loss: 0.7572 - val_accuracy: 0.7760\n",
      "Epoch 25/100\n",
      "1563/1563 [==============================] - 54s 34ms/step - loss: 0.2084 - accuracy: 0.9364 - val_loss: 0.7964 - val_accuracy: 0.7759\n",
      "Epoch 26/100\n",
      "1563/1563 [==============================] - 54s 34ms/step - loss: 0.2180 - accuracy: 0.9341 - val_loss: 0.8189 - val_accuracy: 0.7830\n",
      "Epoch 27/100\n",
      "1563/1563 [==============================] - 54s 35ms/step - loss: 0.2127 - accuracy: 0.9334 - val_loss: 0.7628 - val_accuracy: 0.7814\n",
      "Epoch 28/100\n",
      "1563/1563 [==============================] - 54s 35ms/step - loss: 0.2222 - accuracy: 0.9343 - val_loss: 0.7888 - val_accuracy: 0.7822\n",
      "Epoch 29/100\n",
      "1563/1563 [==============================] - 54s 35ms/step - loss: 0.2219 - accuracy: 0.9343 - val_loss: 0.7842 - val_accuracy: 0.7789\n",
      "Epoch 30/100\n",
      "1563/1563 [==============================] - 54s 35ms/step - loss: 0.2207 - accuracy: 0.9315 - val_loss: 0.7738 - val_accuracy: 0.7836\n",
      "Epoch 31/100\n",
      "1563/1563 [==============================] - 54s 35ms/step - loss: 0.2126 - accuracy: 0.9357 - val_loss: 0.7726 - val_accuracy: 0.7858\n",
      "Epoch 32/100\n",
      "1563/1563 [==============================] - 54s 35ms/step - loss: 0.2123 - accuracy: 0.9347 - val_loss: 0.7592 - val_accuracy: 0.7790\n",
      "Epoch 33/100\n",
      "1563/1563 [==============================] - 54s 35ms/step - loss: 0.2057 - accuracy: 0.9389 - val_loss: 0.8213 - val_accuracy: 0.7877\n",
      "Epoch 34/100\n",
      "1563/1563 [==============================] - 54s 35ms/step - loss: 0.2186 - accuracy: 0.9347 - val_loss: 0.7657 - val_accuracy: 0.7849\n",
      "Epoch 35/100\n",
      "1563/1563 [==============================] - 54s 35ms/step - loss: 0.2071 - accuracy: 0.9378 - val_loss: 0.8008 - val_accuracy: 0.7787\n",
      "Epoch 36/100\n",
      "1563/1563 [==============================] - 54s 35ms/step - loss: 0.2133 - accuracy: 0.9361 - val_loss: 0.7818 - val_accuracy: 0.7811\n",
      "Epoch 37/100\n",
      "1563/1563 [==============================] - 54s 35ms/step - loss: 0.2236 - accuracy: 0.9334 - val_loss: 0.7760 - val_accuracy: 0.7820\n",
      "Epoch 38/100\n",
      "1563/1563 [==============================] - 54s 35ms/step - loss: 0.2134 - accuracy: 0.9359 - val_loss: 0.7586 - val_accuracy: 0.7905\n",
      "Epoch 39/100\n",
      "1563/1563 [==============================] - 54s 35ms/step - loss: 0.2075 - accuracy: 0.9375 - val_loss: 0.7897 - val_accuracy: 0.7851\n",
      "Epoch 40/100\n",
      "1563/1563 [==============================] - 54s 34ms/step - loss: 0.2150 - accuracy: 0.9361 - val_loss: 0.8019 - val_accuracy: 0.7807\n",
      "Epoch 41/100\n",
      "1563/1563 [==============================] - 54s 34ms/step - loss: 0.2066 - accuracy: 0.9385 - val_loss: 0.7805 - val_accuracy: 0.7813\n",
      "Epoch 42/100\n",
      "1563/1563 [==============================] - 54s 34ms/step - loss: 0.2093 - accuracy: 0.9377 - val_loss: 0.8105 - val_accuracy: 0.7830\n",
      "Epoch 43/100\n",
      "1563/1563 [==============================] - 54s 34ms/step - loss: 0.2145 - accuracy: 0.9355 - val_loss: 0.8039 - val_accuracy: 0.7808\n",
      "Epoch 44/100\n",
      "1563/1563 [==============================] - 54s 34ms/step - loss: 0.2079 - accuracy: 0.9375 - val_loss: 0.7975 - val_accuracy: 0.7845\n",
      "Epoch 45/100\n",
      "1563/1563 [==============================] - 54s 34ms/step - loss: 0.2030 - accuracy: 0.9399 - val_loss: 0.7928 - val_accuracy: 0.7781\n",
      "Epoch 46/100\n",
      "1563/1563 [==============================] - 54s 34ms/step - loss: 0.2128 - accuracy: 0.9351 - val_loss: 0.7791 - val_accuracy: 0.7839\n",
      "Epoch 47/100\n",
      "1563/1563 [==============================] - 54s 34ms/step - loss: 0.2088 - accuracy: 0.9371 - val_loss: 0.8148 - val_accuracy: 0.7818\n",
      "Epoch 48/100\n",
      "1563/1563 [==============================] - 54s 34ms/step - loss: 0.2094 - accuracy: 0.9372 - val_loss: 0.8094 - val_accuracy: 0.7807\n",
      "Epoch 49/100\n",
      "1563/1563 [==============================] - 54s 34ms/step - loss: 0.2020 - accuracy: 0.9391 - val_loss: 0.8398 - val_accuracy: 0.7831\n",
      "Epoch 50/100\n",
      "1563/1563 [==============================] - 55s 35ms/step - loss: 0.2068 - accuracy: 0.9387 - val_loss: 0.7918 - val_accuracy: 0.7830\n",
      "Epoch 51/100\n",
      "1563/1563 [==============================] - 54s 34ms/step - loss: 0.2046 - accuracy: 0.9395 - val_loss: 0.8359 - val_accuracy: 0.7809\n",
      "Epoch 52/100\n",
      "1563/1563 [==============================] - 54s 35ms/step - loss: 0.2071 - accuracy: 0.9365 - val_loss: 0.8305 - val_accuracy: 0.7823\n",
      "Epoch 53/100\n",
      "1563/1563 [==============================] - 54s 34ms/step - loss: 0.2029 - accuracy: 0.9393 - val_loss: 0.8138 - val_accuracy: 0.7804\n",
      "Epoch 54/100\n",
      "1563/1563 [==============================] - 54s 35ms/step - loss: 0.2105 - accuracy: 0.9373 - val_loss: 0.8316 - val_accuracy: 0.7837\n",
      "Epoch 55/100\n",
      "1563/1563 [==============================] - 54s 35ms/step - loss: 0.2041 - accuracy: 0.9399 - val_loss: 0.8149 - val_accuracy: 0.7762\n",
      "Epoch 56/100\n",
      "1563/1563 [==============================] - 54s 35ms/step - loss: 0.2081 - accuracy: 0.9373 - val_loss: 0.8344 - val_accuracy: 0.7832\n",
      "Epoch 57/100\n",
      "1563/1563 [==============================] - 54s 35ms/step - loss: 0.2055 - accuracy: 0.9381 - val_loss: 0.7938 - val_accuracy: 0.7775\n",
      "Epoch 58/100\n",
      "1563/1563 [==============================] - 54s 35ms/step - loss: 0.2117 - accuracy: 0.9372 - val_loss: 0.8092 - val_accuracy: 0.7866\n",
      "Epoch 59/100\n",
      "1563/1563 [==============================] - 54s 35ms/step - loss: 0.2066 - accuracy: 0.9395 - val_loss: 0.8308 - val_accuracy: 0.7784\n",
      "Epoch 60/100\n",
      "1563/1563 [==============================] - 54s 35ms/step - loss: 0.2057 - accuracy: 0.9397 - val_loss: 0.8488 - val_accuracy: 0.7781\n",
      "Epoch 61/100\n",
      "1563/1563 [==============================] - 54s 35ms/step - loss: 0.2010 - accuracy: 0.9411 - val_loss: 0.8207 - val_accuracy: 0.7802\n",
      "Epoch 62/100\n",
      "1563/1563 [==============================] - 54s 35ms/step - loss: 0.2075 - accuracy: 0.9387 - val_loss: 0.7991 - val_accuracy: 0.7849\n",
      "Epoch 63/100\n",
      "1563/1563 [==============================] - 54s 35ms/step - loss: 0.2044 - accuracy: 0.9393 - val_loss: 0.8285 - val_accuracy: 0.7782\n",
      "Epoch 64/100\n",
      "1563/1563 [==============================] - 54s 35ms/step - loss: 0.2105 - accuracy: 0.9370 - val_loss: 0.8085 - val_accuracy: 0.7836\n",
      "Epoch 65/100\n",
      "1563/1563 [==============================] - 54s 35ms/step - loss: 0.1991 - accuracy: 0.9398 - val_loss: 0.8233 - val_accuracy: 0.7790\n",
      "Epoch 66/100\n",
      "1563/1563 [==============================] - 54s 35ms/step - loss: 0.1992 - accuracy: 0.9420 - val_loss: 0.8267 - val_accuracy: 0.7843\n",
      "Epoch 67/100\n",
      "1563/1563 [==============================] - 54s 35ms/step - loss: 0.2067 - accuracy: 0.9379 - val_loss: 0.8725 - val_accuracy: 0.7784\n",
      "Epoch 68/100\n",
      "1563/1563 [==============================] - 54s 35ms/step - loss: 0.1998 - accuracy: 0.9401 - val_loss: 0.8221 - val_accuracy: 0.7788\n",
      "Epoch 69/100\n",
      "1563/1563 [==============================] - 54s 35ms/step - loss: 0.1961 - accuracy: 0.9411 - val_loss: 0.7980 - val_accuracy: 0.7847\n",
      "Epoch 70/100\n",
      "1563/1563 [==============================] - 54s 35ms/step - loss: 0.2048 - accuracy: 0.9399 - val_loss: 0.8189 - val_accuracy: 0.7800\n",
      "Epoch 71/100\n",
      "1563/1563 [==============================] - 54s 35ms/step - loss: 0.1961 - accuracy: 0.9412 - val_loss: 0.8409 - val_accuracy: 0.7852\n",
      "Epoch 72/100\n",
      "1563/1563 [==============================] - 54s 35ms/step - loss: 0.2020 - accuracy: 0.9407 - val_loss: 0.8409 - val_accuracy: 0.7788\n",
      "Epoch 73/100\n",
      "1563/1563 [==============================] - 54s 35ms/step - loss: 0.2044 - accuracy: 0.9402 - val_loss: 0.8094 - val_accuracy: 0.7856\n",
      "Epoch 74/100\n",
      "1563/1563 [==============================] - 54s 34ms/step - loss: 0.1993 - accuracy: 0.9406 - val_loss: 0.8047 - val_accuracy: 0.7828\n",
      "Epoch 75/100\n",
      "1563/1563 [==============================] - 54s 35ms/step - loss: 0.1972 - accuracy: 0.9414 - val_loss: 0.8094 - val_accuracy: 0.7847\n",
      "Epoch 76/100\n",
      "1563/1563 [==============================] - 54s 35ms/step - loss: 0.1994 - accuracy: 0.9409 - val_loss: 0.7731 - val_accuracy: 0.7845\n",
      "Epoch 77/100\n",
      "1563/1563 [==============================] - 54s 35ms/step - loss: 0.1914 - accuracy: 0.9425 - val_loss: 0.8505 - val_accuracy: 0.7813\n",
      "Epoch 78/100\n",
      "1563/1563 [==============================] - 54s 34ms/step - loss: 0.1989 - accuracy: 0.9409 - val_loss: 0.8277 - val_accuracy: 0.7836\n",
      "Epoch 79/100\n",
      "1563/1563 [==============================] - 54s 34ms/step - loss: 0.1954 - accuracy: 0.9419 - val_loss: 0.8543 - val_accuracy: 0.7826\n",
      "Epoch 80/100\n",
      "1563/1563 [==============================] - 54s 34ms/step - loss: 0.1940 - accuracy: 0.9439 - val_loss: 0.8294 - val_accuracy: 0.7891\n",
      "Epoch 81/100\n",
      "1563/1563 [==============================] - 54s 34ms/step - loss: 0.2037 - accuracy: 0.9396 - val_loss: 0.7891 - val_accuracy: 0.7842\n",
      "Epoch 82/100\n",
      "1563/1563 [==============================] - 54s 34ms/step - loss: 0.1966 - accuracy: 0.9415 - val_loss: 0.8530 - val_accuracy: 0.7859\n",
      "Epoch 83/100\n",
      "1563/1563 [==============================] - 54s 35ms/step - loss: 0.2025 - accuracy: 0.9401 - val_loss: 0.7801 - val_accuracy: 0.7866\n",
      "Epoch 84/100\n",
      "1563/1563 [==============================] - 55s 35ms/step - loss: 0.2022 - accuracy: 0.9402 - val_loss: 0.7730 - val_accuracy: 0.7891\n",
      "Epoch 85/100\n",
      "1563/1563 [==============================] - 54s 35ms/step - loss: 0.1902 - accuracy: 0.9442 - val_loss: 0.8035 - val_accuracy: 0.7913\n",
      "Epoch 86/100\n",
      "1563/1563 [==============================] - 54s 35ms/step - loss: 0.2008 - accuracy: 0.9412 - val_loss: 0.8337 - val_accuracy: 0.7854\n",
      "Epoch 87/100\n",
      "1563/1563 [==============================] - 54s 35ms/step - loss: 0.1898 - accuracy: 0.9433 - val_loss: 0.8731 - val_accuracy: 0.7817\n",
      "Epoch 88/100\n",
      "1563/1563 [==============================] - 54s 35ms/step - loss: 0.1930 - accuracy: 0.9441 - val_loss: 0.8085 - val_accuracy: 0.7890\n",
      "Epoch 89/100\n",
      "1563/1563 [==============================] - 54s 35ms/step - loss: 0.1988 - accuracy: 0.9419 - val_loss: 0.8390 - val_accuracy: 0.7858\n",
      "Epoch 90/100\n",
      "1563/1563 [==============================] - 54s 34ms/step - loss: 0.2045 - accuracy: 0.9405 - val_loss: 0.8319 - val_accuracy: 0.7779\n",
      "Epoch 91/100\n",
      "1563/1563 [==============================] - 54s 34ms/step - loss: 0.2021 - accuracy: 0.9412 - val_loss: 0.8081 - val_accuracy: 0.7809\n",
      "Epoch 92/100\n",
      "1563/1563 [==============================] - 54s 35ms/step - loss: 0.1955 - accuracy: 0.9429 - val_loss: 0.8353 - val_accuracy: 0.7850\n",
      "Epoch 93/100\n",
      "1563/1563 [==============================] - 54s 34ms/step - loss: 0.1922 - accuracy: 0.9432 - val_loss: 0.8202 - val_accuracy: 0.7871\n",
      "Epoch 94/100\n",
      "1563/1563 [==============================] - 54s 35ms/step - loss: 0.1876 - accuracy: 0.9447 - val_loss: 0.8477 - val_accuracy: 0.7878\n",
      "Epoch 95/100\n",
      "1563/1563 [==============================] - 54s 34ms/step - loss: 0.1937 - accuracy: 0.9438 - val_loss: 0.8214 - val_accuracy: 0.7890\n",
      "Epoch 96/100\n",
      "1563/1563 [==============================] - 54s 35ms/step - loss: 0.1979 - accuracy: 0.9425 - val_loss: 0.8524 - val_accuracy: 0.7853\n",
      "Epoch 97/100\n",
      "1563/1563 [==============================] - 54s 34ms/step - loss: 0.1874 - accuracy: 0.9451 - val_loss: 0.8876 - val_accuracy: 0.7849\n",
      "Epoch 98/100\n",
      "1563/1563 [==============================] - 54s 35ms/step - loss: 0.1982 - accuracy: 0.9418 - val_loss: 0.8212 - val_accuracy: 0.7808\n",
      "Epoch 99/100\n",
      "1563/1563 [==============================] - 54s 35ms/step - loss: 0.1952 - accuracy: 0.9423 - val_loss: 0.8259 - val_accuracy: 0.7833\n",
      "Epoch 100/100\n",
      "1563/1563 [==============================] - 54s 34ms/step - loss: 0.1939 - accuracy: 0.9428 - val_loss: 0.8305 - val_accuracy: 0.7880\n",
      "Accuracy: 78.80%\n"
     ]
    }
   ],
   "source": [
    "model.fit(x_train, y_train, validation_data=(x_test, y_test), epochs=100, batch_size=32) \n",
    "# Final evaluation of the model \n",
    "scores = model.evaluate(x_test, y_test, verbose=0) \n",
    "print(\"Accuracy: %.2f%%\" % (scores[1]*100))"
   ]
  },
  {
   "cell_type": "code",
   "execution_count": 27,
   "metadata": {},
   "outputs": [],
   "source": [
    "#This will create an HDF5 file with the name ‘project_model’  and extension ‘.h5’. Hierarchical Data Format (HDF) \n",
    "from keras.models import load_model \n",
    "model.save('project_model.h5')"
   ]
  },
  {
   "cell_type": "code",
   "execution_count": 28,
   "metadata": {},
   "outputs": [],
   "source": [
    "#loading the saved model \n",
    "from keras.models import load_model \n",
    "model = load_model('project_model.h5')"
   ]
  },
  {
   "cell_type": "code",
   "execution_count": 35,
   "metadata": {},
   "outputs": [],
   "source": [
    "import numpy as np \n",
    "from keras.preprocessing import image\n",
    "# Give the link of the image here to test \n",
    "test_image1 =image.load_img('C://Users//WoU_AI_ML//Documents//4.jfif',target_size =(32,32))"
   ]
  },
  {
   "cell_type": "code",
   "execution_count": 36,
   "metadata": {},
   "outputs": [
    {
     "name": "stdout",
     "output_type": "stream",
     "text": [
      "[[0. 0. 0. 0. 0. 0. 0. 1. 0. 0.]]\n",
      "Horse\n"
     ]
    }
   ],
   "source": [
    "test_image =image.img_to_array(test_image1) \n",
    "test_image =np.expand_dims(test_image, axis =0) \n",
    "result = model.predict(test_image) \n",
    "print(result) \n",
    "if result[0][0]==1: \n",
    "    print(\"Aeroplane\") \n",
    "elif result[0][1]==1: \n",
    "    print('Automobile') \n",
    "elif result[0][2]==1: \n",
    "    print('Bird') \n",
    "elif result[0][3]==1: \n",
    "    print('Cat') \n",
    "elif result[0][4]==1: \n",
    "    print('Deer') \n",
    "elif result[0][5]==1: \n",
    "    print('Dog') \n",
    "elif result[0][6]==1: \n",
    "    print('Frog') \n",
    "elif result[0][7]==1: \n",
    "    print('Horse') \n",
    "elif result[0][8]==1: \n",
    "    print('Ship') \n",
    "elif result[0][9]==1: \n",
    "    print('Truck') \n",
    "else: \n",
    "    print('Error')"
   ]
  },
  {
   "cell_type": "code",
   "execution_count": 37,
   "metadata": {},
   "outputs": [
    {
     "data": {
      "text/plain": [
       "<matplotlib.image.AxesImage at 0x1813897ab20>"
      ]
     },
     "execution_count": 37,
     "metadata": {},
     "output_type": "execute_result"
    },
    {
     "data": {
      "image/png": "[encoded data removed]",
      "text/plain": [
       "<Figure size 432x288 with 1 Axes>"
      ]
     },
     "metadata": {
      "needs_background": "light"
     },
     "output_type": "display_data"
    }
   ],
   "source": [
    "%matplotlib inline \n",
    "import matplotlib.pyplot as plt \n",
    "plt.imshow(test_image1)"
   ]
  }
 ],
 "metadata": {
  "kernelspec": {
   "display_name": "Python 3",
   "language": "python",
   "name": "python3"
  },
  "language_info": {
   "codemirror_mode": {
    "name": "ipython",
    "version": 3
   },
   "file_extension": ".py",
   "mimetype": "text/x-python",
   "name": "python",
   "nbconvert_exporter": "python",
   "pygments_lexer": "ipython3",
   "version": "3.8.3"
  }
 },
 "nbformat": 4,
 "nbformat_minor": 4
}
